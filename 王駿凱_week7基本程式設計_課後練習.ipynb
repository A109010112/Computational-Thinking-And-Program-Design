{
  "nbformat": 4,
  "nbformat_minor": 0,
  "metadata": {
    "kernelspec": {
      "display_name": "Python 3",
      "language": "python",
      "name": "python3"
    },
    "language_info": {
      "codemirror_mode": {
        "name": "ipython",
        "version": 3
      },
      "file_extension": ".py",
      "mimetype": "text/x-python",
      "name": "python",
      "nbconvert_exporter": "python",
      "pygments_lexer": "ipython3",
      "version": "3.8.5"
    },
    "colab": {
      "name": "王駿凱_week7基本程式設計_課後練習.ipynb",
      "provenance": [],
      "include_colab_link": true
    }
  },
  "cells": [
    {
      "cell_type": "markdown",
      "metadata": {
        "id": "view-in-github",
        "colab_type": "text"
      },
      "source": [
        "<a href=\"https://colab.research.google.com/github/A109010112/Computational-Thinking-And-Program-Design/blob/main/%E7%8E%8B%E9%A7%BF%E5%87%B1_week7%E5%9F%BA%E6%9C%AC%E7%A8%8B%E5%BC%8F%E8%A8%AD%E8%A8%88_%E8%AA%B2%E5%BE%8C%E7%B7%B4%E7%BF%92.ipynb\" target=\"_parent\"><img src=\"https://colab.research.google.com/assets/colab-badge.svg\" alt=\"Open In Colab\"/></a>"
      ]
    },
    {
      "cell_type": "markdown",
      "metadata": {
        "id": "0azZP3qUwTvQ"
      },
      "source": [
        "\n",
        "# 練習題題庫"
      ]
    },
    {
      "cell_type": "markdown",
      "metadata": {
        "id": "Qgzo20jdwTve"
      },
      "source": [
        "**練習1: 是真的嗎？網路資料不輕信**\n",
        "\n",
        "宣宣這學期開始學習Python，老師和學長姊都說多上網查找相關資料。多多麻煩Google大神找答案，是提升自學能力最好的方法。於是她看到一段與上課有關、但老師沒有教的內容，宣宣想看看下面的內容正不正確，你能幫助她嗎？\n",
        "\n",
        "(1)在Python中，用1表示True，用0和其他非1的整數表示False。\n",
        "\n",
        "(2)在Python中，所有物件都可以進行布林測試。"
      ]
    },
    {
      "cell_type": "code",
      "metadata": {
        "id": "UVLhGym4wTvf"
      },
      "source": [
        ""
      ],
      "execution_count": null,
      "outputs": []
    },
    {
      "cell_type": "markdown",
      "metadata": {
        "id": "v0bFbmvqwTvf"
      },
      "source": [
        "**練習2: 變數賦值，小猴子摘水果**\n",
        "有一天，一隻小猴子來到果園裡，牠走道蘋果樹下，看到滿樹的蘋果，就爬上去摘了2個。又看到不滿的地方有一個梨子樹，又大又黃，就丟掉蘋果，爬到梨子樹摘了1個梨子。正準備吃的時候，看到前方又紅又大的桃子樹，就又高高興興地跑到桃樹上，摘了3個桃子。這時傳來小鳥的叫聲，鳥在香蕉樹上，當然就立馬飛奔去摘香蕉，最後吃了6根香蕉。\n",
        "請問這隻猴子摘了什麼水果、摘了幾個？總共摘了多少個水果？請你用Python記錄一下！"
      ]
    },
    {
      "cell_type": "code",
      "metadata": {
        "id": "UAGpNiHYwTvg"
      },
      "source": [
        ""
      ],
      "execution_count": null,
      "outputs": []
    },
    {
      "cell_type": "markdown",
      "metadata": {
        "id": "H7JeaPjQwTvg"
      },
      "source": [
        "**練習3: : 統計人數**\n",
        "\n",
        "假期結束了，方老師問班上同學們：誰在寒假裡看過『上陽賦』？有一半同學舉手。又問：誰看過『哲仁皇后』？有五分之二的同學舉手。方老師發現，又7位同學兩部都看過。張小青去爺爺家，沒有網路，兩部劇都沒有看過。所以，他問老師：這兩部都沒看過的同學，要不要舉手讓您數一數呢？方老師笑說：不用了，我已經知道答案了。請問如果班上有50位同學，那麼多少人兩部都沒看過呢。"
      ]
    },
    {
      "cell_type": "code",
      "metadata": {
        "id": "-SIlNJ9WwTvh"
      },
      "source": [
        ""
      ],
      "execution_count": null,
      "outputs": []
    },
    {
      "cell_type": "markdown",
      "metadata": {
        "id": "d1llIGy7wTvh"
      },
      "source": [
        "**練習4：講故事比賽**\n",
        "\n",
        "班上舉行講故事比賽，3位評委為每位選手打分，每位評委打分範圍是0~100分之間的一個分數。最後計算3個評委的平均分數。(選手的最終分數請保留兩位小數。)"
      ]
    },
    {
      "cell_type": "code",
      "metadata": {
        "id": "en-httB3wTvh"
      },
      "source": [
        ""
      ],
      "execution_count": null,
      "outputs": []
    },
    {
      "cell_type": "markdown",
      "metadata": {
        "id": "69RSlUXzwTvi"
      },
      "source": [
        "**練習5: 整理圖書**\n",
        "\n",
        "輸入兩個正整數a = 13和b = 11，將換a和b的值，即a = 11和b = 13。\n",
        "\n",
        "～梁小星在家中整理書櫃，原來第一層放11本爸爸的書，第二層放13本自己的書，他想將兩層圖書的位置對調，請問該如何做呢？"
      ]
    },
    {
      "cell_type": "code",
      "metadata": {
        "id": "_YBk9wcHwTvi"
      },
      "source": [
        ""
      ],
      "execution_count": null,
      "outputs": []
    },
    {
      "cell_type": "markdown",
      "metadata": {
        "id": "eGuB7z2qwTvi"
      },
      "source": [
        "**練習6: 引用引文**\n",
        "\n",
        "在網路上搜尋名言，或者使用你自己的名言。它可以是激勵你的文字、電影中一段有趣的台詞，甚至是家人說的話。"
      ]
    },
    {
      "cell_type": "code",
      "metadata": {
        "id": "ECu_rKoUwTvj"
      },
      "source": [
        ""
      ],
      "execution_count": null,
      "outputs": []
    },
    {
      "cell_type": "markdown",
      "metadata": {
        "id": "zQDHUL-6wTvj"
      },
      "source": [
        "**練習7: 情緒變數**\n",
        "\n",
        "通常，我們的心情每天每分每秒都在變化。某天我們可能精力充沛，隔天我們可能感覺非常疲憊；或者今天是星期五，大多數的人都非常快樂！無論我們的心情如何，我們都可以使用變數保存它。"
      ]
    },
    {
      "cell_type": "code",
      "metadata": {
        "id": "UF08IIQMwTvj"
      },
      "source": [
        ""
      ],
      "execution_count": null,
      "outputs": []
    },
    {
      "cell_type": "markdown",
      "metadata": {
        "id": "S51S6Wx1wTvk"
      },
      "source": [
        "**練習8: Hello, 你好**\n",
        "\n",
        "第一次使用Python，用它和世界打聲招呼吧！\n",
        "請在螢幕上印出\"Hello World！\"，接著用中文試看看，印出\"嗨，早安！\"和\"我是OOO\"。（注意中英文轉換）\n",
        "再看看Python的計算能力，三加四是多少呢? 這三個指令\"3 + 4\"、\"3\" + \"4\"、3 + 4的答案？（ 差一點答案就天差地別）"
      ]
    },
    {
      "cell_type": "code",
      "metadata": {
        "id": "q6EC0RXSwTvk"
      },
      "source": [
        ""
      ],
      "execution_count": null,
      "outputs": []
    },
    {
      "cell_type": "markdown",
      "metadata": {
        "id": "ju9_Q0xAwTvk"
      },
      "source": [
        "**練習9： 電腦中資料儲存單位計算**\n",
        "\n",
        "電腦為二進位系統，最小儲存單位為位元(bit)，8個位元變成1個位元組(byte)，\n",
        "\n",
        "$2^{10}$ byte 組成1KB， $2^{20}$ byte 組成1MB，$2^{30}$ byte 組成1GB， $2^{40}$ byte 組成1TB，$2^{50}$ byte 組成1PB，$2^{60}$ byte 組成1EB，$2^{70}$ byte組成1ZB，$2^{80}$ byte 組成1YB，請寫出一個程式計算$2^{10}、2^{20}、2^{30}、2^{40}、2^{50}、2^{60}、2^{70}、2^{80}$的十進位數值。\n",
        "\n",
        "預覽結果\n",
        "\n",
        "1KB = 1024 Byte\n",
        "\n",
        "1MB = 1048576 Byte\n",
        "\n",
        "1GB = 1073741824 Byte\n",
        "\n",
        "1TB = 1099511627776 Byte\n",
        "\n",
        "1PB = 1125899906842624 Byte\n",
        "\n",
        "1EB = 1152921504606846976 Byte\n",
        "\n",
        "1ZB = 1180591620717411303424 Byte\n",
        "\n",
        "1YB = 1208925819614629174706176 Byte"
      ]
    },
    {
      "cell_type": "code",
      "metadata": {
        "id": "57asffcOwTvl"
      },
      "source": [
        ""
      ],
      "execution_count": null,
      "outputs": []
    },
    {
      "cell_type": "markdown",
      "metadata": {
        "id": "yImMq56iwTvl"
      },
      "source": [
        "**練習10: 自我介紹**\n",
        "\n",
        "我們將和電腦一起完成很多工作，並要求它為我們做一堆很酷的事情，所以不妨來個自我介紹，正式打個招呼！\n",
        "\n",
        "(1)使用print()函數向電腦介紹自己。你的自我介紹應該顯示在主控台視窗裡，中英文均可。\n",
        "\n",
        "(2)更改現有的print()函數，使用f字串。請創立兩個變數，name和age；然後為name變數指派你的名字字串，為age變數指派一個數學運算式，計算你的年齡。最後，使用f字串、name和age變數輸出你的簡介到電腦上！\n",
        "\n",
        "預期輸出範例\n",
        "\n",
        "\"Hello, My name is Franics. I was bon in 2000.\"\n",
        "\n",
        "\"Hi, My name is Franics and I am 21 years old!\""
      ]
    },
    {
      "cell_type": "code",
      "metadata": {
        "id": "81HyaS_SwTvl"
      },
      "source": [
        ""
      ],
      "execution_count": null,
      "outputs": []
    },
    {
      "cell_type": "markdown",
      "metadata": {
        "id": "fxQ7WGC5wTvm"
      },
      "source": [
        "**練習11: 分糖果遊戲**\n",
        "\n",
        "在糖果屋中，有6位小朋友在玩分糖果遊戲。這6位小朋友的編號為1, 2, 3, 4, 5, 6，並按照自己的編號坐在一張圓桌旁。它們身上都有不同的糖果，從1號小朋友開始，將自己的糖果均分成3份，如果有多的就立刻先吃掉，然後自己留1份，其餘2份給身邊的小朋友。接著2號、3號、4號、5號、6號同學這樣做。問一輪後，每位小朋友手上有多少糖果。"
      ]
    },
    {
      "cell_type": "code",
      "metadata": {
        "id": "ilPO2IzUwTvm"
      },
      "source": [
        ""
      ],
      "execution_count": null,
      "outputs": []
    },
    {
      "cell_type": "markdown",
      "metadata": {
        "id": "qtUDhcQuwTvm"
      },
      "source": [
        "**練習12：格式化輸出，明星檔案**\n",
        "\n",
        "用Python語言編制一個明星檔案，帶你認識創造Python程式語言的大神！"
      ]
    },
    {
      "cell_type": "code",
      "metadata": {
        "id": "qydA0GFTwTvn"
      },
      "source": [
        ""
      ],
      "execution_count": null,
      "outputs": []
    },
    {
      "cell_type": "markdown",
      "metadata": {
        "id": "tEpmVpc-wTvn"
      },
      "source": [
        "**練習13: 滑稽故事**\n",
        "\n",
        "你玩過Mad Libs這種紙上遊戲嗎？這是一個有趣的遊戲，你要求另一個人給你各種類型單字，例如：顏色、數字、形容詞等，並且將這些單字填補到短篇故事中的空白處，當空白處填完畢後，你朗誦整段故事給他們聽，大多時候，這些故事真的變得很滑稽。\n",
        "\n",
        "大家該做什麼\n",
        "\n",
        "我們知道可以使用f字串替換字串的某些部分，編寫一個程式，輸出你那荒謬的、來自朋友的故事。\n",
        "\n",
        "以下是開始的步驟：\n",
        "\n",
        "Step 1: 創立一個新檔來儲存滑稽故事的程式。\n",
        "\n",
        "Step 2: 創立四到五個不同類型單字的變數。例如下面並儲存這些變數在檔案中。\n",
        "\n",
        "```\n",
        "name = \"\"\n",
        "adjective = \"\"\n",
        "favorite_snack = \"\"\n",
        "number = \"\"\n",
        "type_of_tree = \"\"\n",
        "```\n",
        "\n",
        "請注意，我們尚未指派變數的任何值。這裡就是之後填入朋友提供你的單字之處。\n",
        "\n",
        "Step3: 創立另一個變數保存你的滑稽故事，你可以使用此模版或編寫你自己的模版：\n",
        "\n",
        "```\n",
        "silly_story = f\"\"\"\n",
        "Hi, my name is {name}.\n",
        "I really like {adjective}{favorite_snack}!\n",
        "I like it so much, I try to eat it at least {number} times every day.\n",
        "It tastes even better when you eat it under a {type_of_tree}!\n",
        "\"\"\"\n",
        "```\n",
        "\n",
        "Step4: 最後，使用print()函式輸出你的滑稽故事：\n",
        "\n",
        "```\n",
        "print(silly_story)\n",
        "```\n",
        "\n",
        "這樣就完成了！現在去找朋友，要求他們給一些單字（你的變數）。將變數更改為朋友給你的單字，儲存程式然後執行它，看看你的滑稽故事。"
      ]
    },
    {
      "cell_type": "code",
      "metadata": {
        "id": "sw_wnUPjwTvo"
      },
      "source": [
        ""
      ],
      "execution_count": null,
      "outputs": []
    },
    {
      "cell_type": "markdown",
      "metadata": {
        "id": "lZGLIY98wTvo"
      },
      "source": [
        "**練習14:  晚餐決策（點餐機器人）**\n",
        "\n",
        "想像一下，餐廳裡有許多不同類型的食物供我們選擇。我們可不可以把點餐自動化呢？請客人點餐並正確地拿到點餐的食物呢？如果能夠編寫一個程式，先記錄餐廳所提供的不同食物，然後請客人使用菜單從中挑選，那要如何確保客人拿到想要的食物呢？\n",
        "\n",
        "～先向前面建立電影的資訊一樣，建立餐廳的菜單。菜單如下：\n",
        "\n",
        "```{R}\n",
        "# 用變數賦值建立餐單\n",
        "## Entress 主食\n",
        "pepperonu_pizza = \"91334\"\n",
        "hamberger = \"cheeseburger\"\n",
        "steak = \"0980sdf3\"\n",
        "pasta = \"ribs\"\n",
        "fried_chicken = \"fried chicken\"\n",
        "\n",
        "## Sides 副餐\n",
        "baked_potato = \"mashed potatoes\"\n",
        "mashed_potatoes = \"baked potato\"\n",
        "french_fries = \"french fries\"\n",
        "mac_n_cheese = \"33333\"\n",
        "steamed_carrots = \"green\"\n",
        "broccoli = \"chocolate chips\"\n",
        "\n",
        "## Desserts 甜點\n",
        "chocolate_ice_cream = \"chocolate ice cream\"\n",
        "strawberry_ice_cream = \"vanilla ice cream\"\n",
        "apple_pie = \"302948\"\n",
        "watermelon = \"oranges\"\n",
        "vanilla_dount = \"cereal\"\n",
        "```\n",
        "\n",
        "～紀錄客人的選擇\n",
        "\n",
        "```Python\n",
        "# 客人資訊與餐點資訊\n",
        "tel = input(\"點餐客人手機號碼？ \")\n",
        "name = input(\"點餐客人姓名？ \")\n",
        "time = input(\"用餐時間? \")\n",
        "table = input(\"點餐客人桌號？ \")\n",
        "\n",
        "# 餐點資訊\n",
        "entree =  input(\"主餐為 \")\n",
        "side_one = input(\"副餐1為 \")\n",
        "side_two = input(\"副餐2為 \")\n",
        "dessert_one = input(\"甜點1為 \")\n",
        "dessert_two = input(\"甜點2為 \")\n",
        "dessert_three = input(\"甜點3為 \")\n",
        "\n",
        "# 消費金額計算\n",
        ".......\n",
        "```\n",
        "\n",
        "～創立另一個變數保留你選擇的晚餐，你可以使用此範本或編寫自己的範本！\n",
        "\n",
        "```\n",
        "dinner_decisions = f\"\"\"\n",
        "Hi, my name is {name}.\n",
        "I choose {entree} as my main meal!\n",
        "To go with it, I choose {side_one} and {side_two} as my sides.\n",
        "And the best part, I have {dessert_one}, {dessert_two}, and {dessert_three} waiting for me for desert!\n",
        "Let's eat!\n",
        "\"\"\"\n",
        "\n",
        "print(dinner_decisions)\n",
        "```"
      ]
    },
    {
      "cell_type": "code",
      "metadata": {
        "id": "7RzGytWBwTvo"
      },
      "source": [
        ""
      ],
      "execution_count": null,
      "outputs": []
    },
    {
      "cell_type": "markdown",
      "metadata": {
        "id": "GItxil6fwTvp"
      },
      "source": [
        "**練習15：長跑健將**\n",
        "\n",
        "梁小星很喜歡運動，每天都堅持跑步5公里，為此他還買了一個手環。觀看手環可以記錄步數、距離、速度、時間等數據。梁小星想用Python寫一個統計時間的程式，你可以幫幫他嗎？(06'32, 07'21, 05,51, 07'03, 05'48)\n"
      ]
    },
    {
      "cell_type": "code",
      "metadata": {
        "id": "J4JtdRILwTvp"
      },
      "source": [
        ""
      ],
      "execution_count": null,
      "outputs": []
    },
    {
      "cell_type": "markdown",
      "metadata": {
        "id": "priHFdoPwTvp"
      },
      "source": [
        "**練習16:數據類型的轉換**\n",
        "\n",
        "為了要同學掌握百分比的計算方法，方舟小學的數學老師出了兩道題目。\n",
        "(1)某班有140位同學，其中20%的同學參加了數學競賽，請問參加競賽的有多少人？\n",
        "(2)一件商品原價150元，由於銷售情況不佳，降價求售打八五折，請問打折完的價格是多少？"
      ]
    },
    {
      "cell_type": "code",
      "metadata": {
        "id": "ghrErnsNwTvq"
      },
      "source": [
        ""
      ],
      "execution_count": null,
      "outputs": []
    },
    {
      "cell_type": "markdown",
      "metadata": {
        "id": "XhvrCG6zwTvq"
      },
      "source": [
        "\n",
        "**練習17: 農夫的難題**\n",
        "\n",
        "一位農夫帶著一條狼，一隻羊和一籃蔬菜過河但只有一條小船，並且每次只能讓農夫帶一樣東西過河。農夫在場的情況下一切相安無事，一旦農夫不在，狼會吃羊，洋會吃蔬菜。你幫助農夫解決過河的難題嗎？"
      ]
    },
    {
      "cell_type": "code",
      "metadata": {
        "id": "Hq70b35wwTvs"
      },
      "source": [
        ""
      ],
      "execution_count": null,
      "outputs": []
    },
    {
      "cell_type": "markdown",
      "metadata": {
        "id": "alYzAjEgwTvt"
      },
      "source": [
        "**練習18: 字串拼接成語接龍**\n",
        "\n",
        "用Python語言編制一個成語接龍遊戲。玩家輸入成語後，程序會把所有成語拼皆起來，顯示拼接的長龍。"
      ]
    },
    {
      "cell_type": "code",
      "metadata": {
        "id": "VOgQ8aOKwTvu"
      },
      "source": [
        ""
      ],
      "execution_count": null,
      "outputs": []
    },
    {
      "cell_type": "markdown",
      "metadata": {
        "id": "dSgda_FxwTvu"
      },
      "source": [
        "\n",
        "**練習19: 字串朋友手牽手**\n",
        "\n",
        "請輸入0~255之間的數，然後轉成ASCII碼，並按照下面的順序輸出結果。（使用chr()函數可以進行數值轉換。）\n",
        "\n",
        "```\n",
        "輸出：＿＿＿＿＿＿＿＿＿\n",
        "\n",
        "A 1 1 1 A       \n",
        "1 A 1 A 1\n",
        "1 1 A 1 1     \n",
        "1 A 1 A 1\n",
        "A 1 1 1 A\n",
        "```\n"
      ]
    },
    {
      "cell_type": "code",
      "metadata": {
        "id": "3V7Yw9bEwTvu"
      },
      "source": [
        ""
      ],
      "execution_count": null,
      "outputs": []
    },
    {
      "cell_type": "markdown",
      "metadata": {
        "id": "3A4Rek-pwTvu"
      },
      "source": [
        "**練習20：數字與文字的轉換**\n",
        "\n",
        "小范喜歡看諜戰片，對加密非常感興趣，他很想使用Python語言設計一個加密程式。想法是：輸入一段英文，程式會自動將這段英文按某種加密方式，變成另外一段文字。如果不知道加密的方法，就不會知道這段文字的作用。你能幫助她嗎？\n",
        "\n",
        "加密方式：將輸入文字的ASCII碼，加上3，轉成另一個文字的ASCII碼。"
      ]
    },
    {
      "cell_type": "code",
      "metadata": {
        "id": "pvS6hVv0wTvv"
      },
      "source": [
        ""
      ],
      "execution_count": null,
      "outputs": []
    },
    {
      "cell_type": "code",
      "metadata": {
        "id": "enucunnzwTvv"
      },
      "source": [
        ""
      ],
      "execution_count": null,
      "outputs": []
    }
  ]
}