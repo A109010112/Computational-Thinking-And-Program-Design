{
  "nbformat": 4,
  "nbformat_minor": 0,
  "metadata": {
    "colab": {
      "name": "王駿凱-week4-練習作業.ipynb",
      "provenance": [],
      "authorship_tag": "ABX9TyOLJNI2w1qQbS/7joPqiSa2",
      "include_colab_link": true
    },
    "kernelspec": {
      "name": "python3",
      "display_name": "Python 3"
    },
    "language_info": {
      "name": "python"
    }
  },
  "cells": [
    {
      "cell_type": "markdown",
      "metadata": {
        "id": "view-in-github",
        "colab_type": "text"
      },
      "source": [
        "<a href=\"https://colab.research.google.com/github/A109010112/Computational-Thinking-And-Program-Design/blob/main/%E7%8E%8B%E9%A7%BF%E5%87%B1_week4_%E7%B7%B4%E7%BF%92%E4%BD%9C%E6%A5%AD.ipynb\" target=\"_parent\"><img src=\"https://colab.research.google.com/assets/colab-badge.svg\" alt=\"Open In Colab\"/></a>"
      ]
    },
    {
      "cell_type": "markdown",
      "metadata": {
        "id": "V1UUxo-kcKVv"
      },
      "source": [
        "# 課堂練習\n"
      ]
    },
    {
      "cell_type": "markdown",
      "metadata": {
        "id": "-eQay1VQcPMu"
      },
      "source": [
        ""
      ]
    },
    {
      "cell_type": "code",
      "metadata": {
        "colab": {
          "base_uri": "https://localhost:8080/"
        },
        "id": "E_qjWDNtcrlP",
        "outputId": "b153e8d4-edae-4119-9ed2-50129b3244f4"
      },
      "source": [
        "print(\"hello\")"
      ],
      "execution_count": 1,
      "outputs": [
        {
          "output_type": "stream",
          "text": [
            "hello\n"
          ],
          "name": "stdout"
        }
      ]
    },
    {
      "cell_type": "markdown",
      "metadata": {
        "id": "tDjAUCIFdTTY"
      },
      "source": [
        "# 課後練習"
      ]
    },
    {
      "cell_type": "markdown",
      "metadata": {
        "id": "Xkf36VodFQhb"
      },
      "source": [
        "**從一則新聞報導，提出你對新聞系（OO系）學生為什麼要學「運算思維與程式設計」的見解**\n",
        "[參考文章](https://medium.com/dd-story-hub/p-%E5%AF%A6%E7%BF%92%E7%B6%93%E9%A9%97%E8%AB%87-%E6%96%B0%E8%81%9E%E7%B7%A8%E8%BC%AF%E7%82%BA%E4%BB%80%E9%BA%BC%E8%A6%81%E5%AD%B8%E7%A8%8B%E5%BC%8F%E8%A8%AD%E8%A8%88-bb375fc83bf6)我認為程式設計這門學科是不管在何時何地都不會被社會所淘汰，於是學習程式設計並將其納為自己的本領,在未來不怕沒工作，除了這些基本需求之外，運算思維也可以同時訓練人們的腦力，並增加自己本身的思辨能力，而且有助於自行解決現今科技化時代的許多問題，不會成為跟不上時代的人。|"
      ]
    }
  ]
}