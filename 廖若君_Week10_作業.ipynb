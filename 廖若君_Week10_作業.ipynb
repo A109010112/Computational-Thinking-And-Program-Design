{
  "nbformat": 4,
  "nbformat_minor": 0,
  "metadata": {
    "kernelspec": {
      "display_name": "Python 3",
      "language": "python",
      "name": "python3"
    },
    "language_info": {
      "codemirror_mode": {
        "name": "ipython",
        "version": 3
      },
      "file_extension": ".py",
      "mimetype": "text/x-python",
      "name": "python",
      "nbconvert_exporter": "python",
      "pygments_lexer": "ipython3",
      "version": "3.8.5"
    },
    "colab": {
      "name": "廖若君_Week10_作業.ipynb",
      "provenance": [],
      "include_colab_link": true
    }
  },
  "cells": [
    {
      "cell_type": "markdown",
      "metadata": {
        "id": "view-in-github",
        "colab_type": "text"
      },
      "source": [
        "<a href=\"https://colab.research.google.com/github/A109010112/Computational-Thinking-And-Program-Design/blob/main/%E5%BB%96%E8%8B%A5%E5%90%9B_Week10_%E4%BD%9C%E6%A5%AD.ipynb\" target=\"_parent\"><img src=\"https://colab.research.google.com/assets/colab-badge.svg\" alt=\"Open In Colab\"/></a>"
      ]
    },
    {
      "cell_type": "markdown",
      "metadata": {
        "id": "_xQm3k-Zw4w2"
      },
      "source": [
        "# 基本程式設計(應用篇)"
      ]
    },
    {
      "cell_type": "markdown",
      "metadata": {
        "id": "CQ3_walZw4w5"
      },
      "source": [
        "### 4-2 運算思維四個基石"
      ]
    },
    {
      "cell_type": "markdown",
      "metadata": {
        "id": "8r0SnQ5Vw4w6"
      },
      "source": [
        "#### 4-2-4  問題拆解 - 打造你的聊天機器人"
      ]
    },
    {
      "cell_type": "markdown",
      "metadata": {
        "id": "65pC5T37w4w6"
      },
      "source": [
        "「哈囉，大家好。我叫Zyxo64，是一個聊天機器人。\n",
        "\n",
        "在嗜好與興趣方面，我很喜歡美食，也喜歡養動物。\n",
        "\n",
        "很高興有機會來到世新大學，請大家多多指教。\n",
        "\n",
        "嗨！妳好，請問大名？：Francis。\n",
        "\n",
        "Francis，很高興認識你。"
      ]
    },
    {
      "cell_type": "code",
      "metadata": {
        "id": "hwQLp8d5w4w7",
        "colab": {
          "base_uri": "https://localhost:8080/"
        },
        "outputId": "93045aff-8d2d-4f79-f09d-6a7cd6086067"
      },
      "source": [
        "# 1.聊天機器人自我介紹\n",
        "print(\"哈囉，大家好。我叫Zyxo64，是一個聊天機器人。\")\n",
        "\n",
        "\n",
        "print(\"在嗜好與興趣方面，我很喜歡美食，也喜歡養動物。\")\n",
        "hello = \"很高興有機會來到世新大學，請大家多多指教。\"\n",
        "print(hello)\n",
        "\n",
        "\n",
        "# 2. 打招呼，取得對方名字\n"
      ],
      "execution_count": null,
      "outputs": [
        {
          "output_type": "stream",
          "text": [
            "哈囉，大家好。我叫Zyxo64，是一個聊天機器人。\n",
            "在嗜好與興趣方面，我很喜歡美食，也喜歡養動物。\n",
            "很高興有機會來到世新大學，請大家多多指教。\n"
          ],
          "name": "stdout"
        }
      ]
    },
    {
      "cell_type": "code",
      "metadata": {
        "colab": {
          "base_uri": "https://localhost:8080/"
        },
        "id": "smlhN5KUygyX",
        "outputId": "32e5808c-62e3-4b49-cf85-373bcc2055bc"
      },
      "source": [
        "print(\"嗨！妳好。\")\n",
        "name = input(\"請問大名？:\")\n",
        "\n",
        "print(f\"{name}, 很高興認識你。\")"
      ],
      "execution_count": null,
      "outputs": [
        {
          "output_type": "stream",
          "text": [
            "嗨！妳好。\n",
            "請問大名？:ben\n",
            "ben, 很高興認識你。\n"
          ],
          "name": "stdout"
        }
      ]
    },
    {
      "cell_type": "markdown",
      "metadata": {
        "id": "2LmmJQ3Ew4w7"
      },
      "source": [
        "抱歉，請問一下今年是西元2021年，那是民國幾年呢？：*110*。\n",
        "\n",
        "對！沒錯，謝謝妳！\n",
        "\n",
        "**Francis**，猜猜看我今年幾歲？ ：**18**。\n",
        "\n",
        "哇！你好聰明，我今年的確*18*。\n",
        "\n",
        "再82年我就100歲了。\n",
        "\n",
        "那時候是西元 2103年，也就是民國192年囉！"
      ]
    },
    {
      "cell_type": "code",
      "metadata": {
        "id": "kpHHnCbPw4w8",
        "colab": {
          "base_uri": "https://localhost:8080/"
        },
        "outputId": "313f54df-f11f-4a77-9ac2-d67f445a3e05"
      },
      "source": [
        "# 3. 數學運算\n",
        "## 3-1 從使用者取得今年年份\n",
        "year = input(\"請問一下今年是西元2021年，那是民國幾年呢？\")\n",
        "print(\"對！沒錯，謝謝妳！\")\n",
        "\n",
        "## 3-2 請使用者猜年齡\n",
        "age = input(\"猜猜看我今年幾歲？ :\")\n",
        "print(f\"哇！你好聰明，我今年的確{age}\")\n",
        "\n",
        "## 3-3 計算聊天機器人滿100歲的年份\n",
        "year = int(year)\n",
        "age = int(age)\n",
        "print(f\"再{100-age}年我就100歲了。\")\n",
        "time = year + 1911 + (100-age)\n",
        "print(f\"那時候是西元 {time}年，也就是民國{time-1911}年囉！\")"
      ],
      "execution_count": null,
      "outputs": [
        {
          "output_type": "stream",
          "text": [
            "對！沒錯，謝謝妳！\n"
          ],
          "name": "stdout"
        }
      ]
    },
    {
      "cell_type": "markdown",
      "metadata": {
        "id": "VaVNnZovw4w9"
      },
      "source": [
        "我喜歡吃巧克力，也喜歡嘗試各種新食物。\n",
        "\n",
        "你呢？你最喜歡的食物是什麼？**:披薩**。\n",
        "\n",
        "我也喜歡 *披薩*。\n",
        "\n",
        "你多久吃一次 *披薩*？**：每天**。\n",
        "\n",
        "真有趣。不知道這樣對健康好不好。"
      ]
    },
    {
      "cell_type": "code",
      "metadata": {
        "id": "wwFcqZjYw4w9",
        "colab": {
          "base_uri": "https://localhost:8080/"
        },
        "outputId": "4a62ef21-65dd-40b2-f949-c88ed7dd4c1a"
      },
      "source": [
        "# 4 興趣\n",
        "## 4-1 食物話題\n",
        "print(\"我喜歡吃巧克力，也喜歡嘗試各種新食物。\")\n",
        "\n",
        "food = input(\"你呢？你最喜歡的食物是什麼？\")\n",
        "print(f\"我也喜歡{food}。\")\n",
        "how_often = input(\"你多久吃一次\" + food + \"?\")\n",
        "\n",
        "print(\"真有趣。不知道這樣對健康好不好。\")"
      ],
      "execution_count": null,
      "outputs": [
        {
          "output_type": "stream",
          "text": [
            "我喜歡吃巧克力，也喜歡嘗試各種新食物。\n",
            "你呢？你最喜歡的食物是什麼？酒\n",
            "我也喜歡酒。\n",
            "你多久吃一次酒?一個禮拜4次\n",
            "真有趣。不知道這樣對健康好不好。\n"
          ],
          "name": "stdout"
        }
      ]
    },
    {
      "cell_type": "markdown",
      "metadata": {
        "id": "zOWgWBURw4w-"
      },
      "source": [
        "我最喜歡的動物是長頸鹿。你呢？ **：烏龜**。\n",
        "\n",
        "我不喜歡*烏龜*！\n",
        "\n",
        "不知道 *烏龜* 喜不喜歡吃 *披薩*？"
      ]
    },
    {
      "cell_type": "code",
      "metadata": {
        "id": "QWxyohy-w4w-",
        "colab": {
          "base_uri": "https://localhost:8080/"
        },
        "outputId": "53cf1a39-885e-48f9-ac5d-4c6086eb7686"
      },
      "source": [
        "# 4 興趣\n",
        "## 4-2 動物話題\n",
        "animal = input(\"我最喜歡的動物是長頸鹿。你呢?; \") \n",
        "print(\"我不喜歡\", animal)\n",
        "print(\"不知道\", animal, \"喜不喜歡吃\", food, \"?\")"
      ],
      "execution_count": null,
      "outputs": [
        {
          "output_type": "stream",
          "text": [
            "我最喜歡的動物是長頸鹿。你呢?; 貓\n",
            "我不喜歡 貓\n",
            "不知道 貓 喜不喜歡吃 酒 ?\n"
          ],
          "name": "stdout"
        }
      ]
    },
    {
      "cell_type": "markdown",
      "metadata": {
        "id": "qNVE6YGxw4w-"
      },
      "source": [
        "你今天的心情如何？ **：很開心**。\n",
        "\n",
        "可以告訴我你 *開心* 的原因嗎？**因為週末了！** \n",
        "\n",
        "祝你週末愉快！\n",
        "\n",
        "我喜歡跟你聊天，現在有點累了，改天再聊吧！！\n",
        "\n",
        "再見 *Francis*！"
      ]
    },
    {
      "cell_type": "code",
      "metadata": {
        "id": "zsKwK-dLw4w_",
        "colab": {
          "base_uri": "https://localhost:8080/"
        },
        "outputId": "af443285-7569-4e0c-f3c3-b06caa63c400"
      },
      "source": [
        "# 5. 關於心情的對話\n",
        "feeling = input(\"你今天心情如何? \")\n",
        "print(\"可以告訴我，你\", feeling, \"的原因。 \")\n",
        "reason = input(\"為什麼: \")\n",
        "print(\"我知道了。謝謝分享。\")"
      ],
      "execution_count": null,
      "outputs": [
        {
          "output_type": "stream",
          "text": [
            "你今天心情如何? happy\n",
            "可以告訴我，你 happy 的原因。 \n",
            "為什麼: no reason\n",
            "我知道了。謝謝分享。\n"
          ],
          "name": "stdout"
        }
      ]
    },
    {
      "cell_type": "markdown",
      "metadata": {
        "id": "0DEcwMxpw4w_"
      },
      "source": [
        "我喜歡跟你聊天，現在有點累了，改天再聊吧！！\n",
        "\n",
        "再見 *Francis*！"
      ]
    },
    {
      "cell_type": "code",
      "metadata": {
        "id": "C1XQal8Lw4w_",
        "colab": {
          "base_uri": "https://localhost:8080/"
        },
        "outputId": "f84aa9b9-78ea-4765-de53-e9392470138f"
      },
      "source": [
        "# 6. 道別\n",
        "print(\"祝你週末愉快!\")\n",
        "print(\"我喜歡跟你聊天，現在有點累了，下次再聊!!\") \n",
        "print(\"再見!我喜歡跟你聊天!\")"
      ],
      "execution_count": null,
      "outputs": [
        {
          "output_type": "stream",
          "text": [
            "祝你週末愉快!\n",
            "我喜歡跟你聊天，現在有點累了，下次再聊!!\n",
            "再見我喜歡跟你聊天!\n"
          ],
          "name": "stdout"
        }
      ]
    },
    {
      "cell_type": "markdown",
      "metadata": {
        "id": "CIh9pH5Vw4xA"
      },
      "source": [
        "## 期末報告"
      ]
    },
    {
      "cell_type": "markdown",
      "metadata": {
        "id": "xZnHGrHyw4xA"
      },
      "source": [
        "### 組長(學號姓名):\n",
        "A109010076 廖若君\n"
      ]
    },
    {
      "cell_type": "markdown",
      "metadata": {
        "id": "93yA7ppBw4xB"
      },
      "source": [
        "組員(學號姓名):\n",
        "A109010136 吳幸芳\n",
        "A109010001 鄭宇修\n",
        "A109010091 楊子萱"
      ]
    },
    {
      "cell_type": "markdown",
      "metadata": {
        "id": "W2oJqOzVw4xB"
      },
      "source": [
        "\n",
        "\n",
        "```\n",
        "# 此內容會顯示為程式碼\n",
        "```\n",
        "\n",
        "### 題目:"
      ]
    },
    {
      "cell_type": "markdown",
      "metadata": {
        "id": "g7g0BRs6w4xC"
      },
      "source": [
        "### 百字腳本\n",
        "\n"
      ]
    }
  ]
}